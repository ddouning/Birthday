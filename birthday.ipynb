{
 "cells": [
  {
   "cell_type": "markdown",
   "id": "7fbfe942",
   "metadata": {},
   "source": [
    "# birthday"
   ]
  },
  {
   "cell_type": "markdown",
   "id": "d3e9488c",
   "metadata": {},
   "source": [
    "$P(n)=1-P(n')$\n",
    "\n"
   ]
  },
  {
   "cell_type": "markdown",
   "id": "52e80c7d",
   "metadata": {},
   "source": [
    "$P(n)$ : 생일이 같은 사람이 둘 이상일 확률"
   ]
  },
  {
   "cell_type": "markdown",
   "id": "328662ad",
   "metadata": {},
   "source": [
    "$P(n')$ : 생일이 모두 다를 확률"
   ]
  },
  {
   "cell_type": "markdown",
   "id": "4fe60a57",
   "metadata": {},
   "source": [
    "$P(n')= \\frac{365*364*\\cdots*(365-n+1)}{365^n}$"
   ]
  },
  {
   "cell_type": "markdown",
   "id": "e2c5f1ab",
   "metadata": {},
   "source": [
    "$P(n') = \\frac{365!}{365^n*(365-n)!}$"
   ]
  },
  {
   "cell_type": "code",
   "execution_count": null,
   "id": "22a0ef74",
   "metadata": {},
   "outputs": [],
   "source": []
  }
 ],
 "metadata": {
  "kernelspec": {
   "display_name": "Python 3 (ipykernel)",
   "language": "python",
   "name": "python3"
  },
  "language_info": {
   "codemirror_mode": {
    "name": "ipython",
    "version": 3
   },
   "file_extension": ".py",
   "mimetype": "text/x-python",
   "name": "python",
   "nbconvert_exporter": "python",
   "pygments_lexer": "ipython3",
   "version": "3.9.6"
  }
 },
 "nbformat": 4,
 "nbformat_minor": 5
}
