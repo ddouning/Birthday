{
 "cells": [
  {
   "cell_type": "markdown",
   "id": "7fbfe942",
   "metadata": {},
   "source": [
    "# Birthday problem"
   ]
  },
  {
   "cell_type": "markdown",
   "id": "52e80c7d",
   "metadata": {},
   "source": [
    "$P(n)$ : 생일이 같은 사람이 둘 이상일 확률"
   ]
  },
  {
   "cell_type": "markdown",
   "id": "328662ad",
   "metadata": {},
   "source": [
    "$P(n')$ : 생일이 모두 다를 확률"
   ]
  },
  {
   "cell_type": "markdown",
   "id": "d3e9488c",
   "metadata": {},
   "source": [
    "$P(n)=1-P(n')$\n",
    "\n"
   ]
  },
  {
   "cell_type": "markdown",
   "id": "4fe60a57",
   "metadata": {},
   "source": [
    "$P(n')= \\frac{365*364*\\cdots*(365-n+1)}{365^n}$"
   ]
  },
  {
   "cell_type": "markdown",
   "id": "e2c5f1ab",
   "metadata": {},
   "source": [
    "$P(n') = \\frac{365!}{365^n*(365-n)!}$"
   ]
  },
  {
   "cell_type": "markdown",
   "id": "1d794ba3",
   "metadata": {},
   "source": [
    "$P(n')= \\frac{{365 \\choose n}*n!}{365^n}$"
   ]
  },
  {
   "cell_type": "markdown",
   "id": "6f319b3c",
   "metadata": {},
   "source": [
    "if n=23, P(n') ≈ 0.492703"
   ]
  },
  {
   "cell_type": "markdown",
   "id": "fd688daa",
   "metadata": {},
   "source": [
    "so, P(n)=1-P(n') ≈ 0.507297"
   ]
  },
  {
   "cell_type": "markdown",
   "id": "e8760563",
   "metadata": {},
   "source": [
    "# Approximations"
   ]
  },
  {
   "cell_type": "markdown",
   "id": "1905f010",
   "metadata": {},
   "source": [
    "using Taylor series(expansion of exponential function), simple exp, poisson and square approximation."
   ]
  },
  {
   "cell_type": "markdown",
   "id": "d25da0a0",
   "metadata": {},
   "source": [
    "## Taylor series"
   ]
  },
  {
   "cell_type": "markdown",
   "id": "1ca26608",
   "metadata": {},
   "source": [
    "$e^x=1+x+\\frac{x^2}{2!}+\\cdots$"
   ]
  },
  {
   "cell_type": "markdown",
   "id": "bd6be0e2",
   "metadata": {},
   "source": [
    "$e^x≈ 1+x$"
   ]
  },
  {
   "cell_type": "markdown",
   "id": "e6b9daaf",
   "metadata": {},
   "source": [
    "## using simple exp"
   ]
  },
  {
   "cell_type": "markdown",
   "id": "ad2802ec",
   "metadata": {},
   "source": [
    "${n \\choose 2} $pairs of people"
   ]
  },
  {
   "cell_type": "markdown",
   "id": "c03ddb3a",
   "metadata": {},
   "source": [
    "not having the same birthday = $ \\frac{364}{365}$"
   ]
  },
  {
   "cell_type": "markdown",
   "id": "634e74ab",
   "metadata": {},
   "source": [
    "$P(n')≈ \\frac{364}{365} ^{n \\choose 2} $"
   ]
  },
  {
   "cell_type": "markdown",
   "id": "02ae859d",
   "metadata": {},
   "source": [
    "$P(n) ≈ 1 - \\frac{364}{365} ^{n \\choose 2} $"
   ]
  },
  {
   "cell_type": "markdown",
   "id": "c73230a8",
   "metadata": {},
   "source": [
    "## using Poisson"
   ]
  },
  {
   "cell_type": "markdown",
   "id": "e292f564",
   "metadata": {},
   "source": [
    "$Poi(\\frac{{23 \\choose 2}}{365}) = Poi(0.6932)$"
   ]
  },
  {
   "cell_type": "markdown",
   "id": "4c22efdc",
   "metadata": {},
   "source": [
    "$Pr(X>0) = 1- Pr(X=0) ≈ 1-0.499998 = 0.500002$"
   ]
  },
  {
   "cell_type": "markdown",
   "id": "d885d175",
   "metadata": {},
   "source": [
    "## using Square "
   ]
  },
  {
   "cell_type": "markdown",
   "id": "1299fa1f",
   "metadata": {},
   "source": [
    "good rule of thumb which can be used for mental calculation is the relation"
   ]
  },
  {
   "cell_type": "markdown",
   "id": "3db66481",
   "metadata": {},
   "source": [
    "$P(n) ≈ \\frac{n^2}{2m}$"
   ]
  },
  {
   "cell_type": "markdown",
   "id": "e9a3d006",
   "metadata": {},
   "source": [
    "this can be written as $n ≈ (2m * P(n))^\\frac{1}{2}$"
   ]
  },
  {
   "cell_type": "markdown",
   "id": "ea80fe0c",
   "metadata": {},
   "source": [
    "m is the number of days in a year"
   ]
  },
  {
   "cell_type": "markdown",
   "id": "599d2a62",
   "metadata": {},
   "source": []
  },
  {
   "cell_type": "markdown",
   "id": "52e24cdb",
   "metadata": {},
   "source": [
    "# Conclusion"
   ]
  },
  {
   "cell_type": "markdown",
   "id": "cb64134a",
   "metadata": {},
   "source": [
    "Even if there are 75 people, there is a 100 percent probability that there will be people with the same birthday, and there is more than 50% even if there are 23 people."
   ]
  },
  {
   "cell_type": "code",
   "execution_count": null,
   "id": "e0dfb91a",
   "metadata": {},
   "outputs": [],
   "source": []
  }
 ],
 "metadata": {
  "kernelspec": {
   "display_name": "Python 3 (ipykernel)",
   "language": "python",
   "name": "python3"
  },
  "language_info": {
   "codemirror_mode": {
    "name": "ipython",
    "version": 3
   },
   "file_extension": ".py",
   "mimetype": "text/x-python",
   "name": "python",
   "nbconvert_exporter": "python",
   "pygments_lexer": "ipython3",
   "version": "3.9.6"
  }
 },
 "nbformat": 4,
 "nbformat_minor": 5
}
