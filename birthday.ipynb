{
 "cells": [
  {
   "cell_type": "markdown",
   "id": "7fbfe942",
   "metadata": {},
   "source": [
    "# birthday problem"
   ]
  },
  {
   "cell_type": "markdown",
   "id": "d3e9488c",
   "metadata": {},
   "source": [
    "$P(n)=1-P(n')$\n",
    "\n"
   ]
  },
  {
   "cell_type": "markdown",
   "id": "52e80c7d",
   "metadata": {},
   "source": [
    "$P(n)$ : 생일이 같은 사람이 둘 이상일 확률"
   ]
  },
  {
   "cell_type": "markdown",
   "id": "328662ad",
   "metadata": {},
   "source": [
    "$P(n')$ : 생일이 모두 다를 확률"
   ]
  },
  {
   "cell_type": "markdown",
   "id": "4fe60a57",
   "metadata": {},
   "source": [
    "$P(n')= \\frac{365*364*\\cdots*(365-n+1)}{365^n}$"
   ]
  },
  {
   "cell_type": "markdown",
   "id": "e2c5f1ab",
   "metadata": {},
   "source": [
    "$P(n') = \\frac{365!}{365^n*(365-n)!}$"
   ]
  },
  {
   "cell_type": "markdown",
   "id": "1d794ba3",
   "metadata": {},
   "source": [
    "$P(n')= \\frac{{365 \\choose n}*n!}{365^n}$"
   ]
  },
  {
   "cell_type": "markdown",
   "id": "6f319b3c",
   "metadata": {},
   "source": [
    "if n=23, P(n') ≈ 0.492703"
   ]
  },
  {
   "cell_type": "markdown",
   "id": "fd688daa",
   "metadata": {},
   "source": [
    "so, P(n)=1-P(n') ≈ 0.507297"
   ]
  },
  {
   "cell_type": "markdown",
   "id": "e8760563",
   "metadata": {},
   "source": [
    "# Approximations"
   ]
  },
  {
   "cell_type": "markdown",
   "id": "1905f010",
   "metadata": {},
   "source": [
    "using Taylor series(expansion of exponential function), simple exp, poisson and square approximation."
   ]
  },
  {
   "cell_type": "markdown",
   "id": "d25da0a0",
   "metadata": {},
   "source": [
    "First, Taylor series"
   ]
  },
  {
   "cell_type": "markdown",
   "id": "1ca26608",
   "metadata": {},
   "source": [
    "$e^x=1+x+\\frac{x^2}{2!}+\\cdots$"
   ]
  },
  {
   "cell_type": "markdown",
   "id": "bd6be0e2",
   "metadata": {},
   "source": [
    "$e^x≈ 1+x$"
   ]
  },
  {
   "cell_type": "markdown",
   "id": "e6b9daaf",
   "metadata": {},
   "source": []
  }
 ],
 "metadata": {
  "kernelspec": {
   "display_name": "Python 3 (ipykernel)",
   "language": "python",
   "name": "python3"
  },
  "language_info": {
   "codemirror_mode": {
    "name": "ipython",
    "version": 3
   },
   "file_extension": ".py",
   "mimetype": "text/x-python",
   "name": "python",
   "nbconvert_exporter": "python",
   "pygments_lexer": "ipython3",
   "version": "3.9.6"
  }
 },
 "nbformat": 4,
 "nbformat_minor": 5
}
